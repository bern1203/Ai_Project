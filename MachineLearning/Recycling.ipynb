{
 "cells": [
  {
   "cell_type": "markdown",
   "metadata": {},
   "source": [
    "#  Introduction to Logistic Regression\n",
    "\n",
    "**Logistic Regression** is a widely used supervised machine learning algorithm for classification problems. It is designed to model the probability that a given input belongs to a particular class.\n",
    "\n",
    "Unlike **Linear Regression**, which predicts continuous values, **Logistic Regression** predicts **probabilities** of class membership and maps the output between **0 and 1** using the **sigmoid function**.\n",
    "\n",
    "\n",
    "## Key Concepts\n",
    "\n",
    "- **Classification**: Logistic regression is used when the output variable is categorical.\n",
    "- **Sigmoid Function**: It transforms the linear output into probabilities.\n",
    "  \n",
    "### Logistic Regression Formula\n",
    "\n",
    "The logistic (sigmoid) function is defined as:\n",
    "\n",
    "\\\\[\n",
    "\\sigma(z) = \\frac{1}{1 + e^{-z}}\n",
    "\\\\]\n",
    "\n",
    "where:\n",
    "\n",
    "\\\\[\n",
    "z = w_0 + w_1x_1 + w_2x_2 + \\dots + w_nx_n\n",
    "\\\\]\n",
    "\n",
    "- \\\\( \\sigma(z) \\\\) gives the **probability** that the input belongs to the positive class.\n",
    "- The output of \\\\( \\sigma(z) \\\\) always lies between **0 and 1**.\n",
    "\n",
    "\n",
    "- **Decision Boundary**: Typically, a threshold of 0.5 is used. If the predicted probability is greater than 0.5, the instance is classified as class 1, otherwise as class 0.\n",
    "\n",
    "## Use Cases\n",
    "\n",
    "- Email spam detection (spam or not spam)\n",
    "- Customer churn prediction (churn or not churn)\n",
    "- Disease diagnosis (positive or negative)\n",
    "- Multiclass problems using One-vs-Rest or Softmax (multinomial logistic regression)\n",
    "\n",
    "\n",
    "## Advantages\n",
    "\n",
    "- Easy to implement and interpret\n",
    "- Works well for linearly separable data\n",
    "- Outputs probabilities, which are useful for ranking\n",
    "\n",
    "## Limitations\n",
    "\n",
    "- Assumes linear relationship between features and the log-odds of the outcome\n",
    "- Not ideal for very complex relationships or large datasets without regularization\n",
    "\n",
    " \n"
   ]
  },
  {
   "cell_type": "code",
   "execution_count": 2,
   "metadata": {
    "colab": {
     "base_uri": "https://localhost:8080/",
     "height": 194
    },
    "colab_type": "code",
    "executionInfo": {
     "elapsed": 469,
     "status": "ok",
     "timestamp": 1573780343372,
     "user": {
      "displayName": "Rajeev Ratan",
      "photoUrl": "https://lh3.googleusercontent.com/a-/AAuE7mCGo6aIm0tOcd5EhqWlYb0rime9sBvHS9YMpx0D2w=s64",
      "userId": "08597265227091462140"
     },
     "user_tz": 0
    },
    "id": "tt2YZ9SyRA1a",
    "outputId": "1cc006d2-21b6-47b7-c8fd-863263bdb016"
   },
   "outputs": [
    {
     "data": {
      "text/html": [
       "<div>\n",
       "<style scoped>\n",
       "    .dataframe tbody tr th:only-of-type {\n",
       "        vertical-align: middle;\n",
       "    }\n",
       "\n",
       "    .dataframe tbody tr th {\n",
       "        vertical-align: top;\n",
       "    }\n",
       "\n",
       "    .dataframe thead th {\n",
       "        text-align: right;\n",
       "    }\n",
       "</style>\n",
       "<table border=\"1\" class=\"dataframe\">\n",
       "  <thead>\n",
       "    <tr style=\"text-align: right;\">\n",
       "      <th></th>\n",
       "      <th>Years</th>\n",
       "      <th>0</th>\n",
       "      <th>1</th>\n",
       "      <th>At25</th>\n",
       "      <th>Grand Total</th>\n",
       "      <th>PercentageOf</th>\n",
       "    </tr>\n",
       "  </thead>\n",
       "  <tbody>\n",
       "    <tr>\n",
       "      <th>0</th>\n",
       "      <td>2008</td>\n",
       "      <td>13096.50000</td>\n",
       "      <td>4019.500000</td>\n",
       "      <td>1</td>\n",
       "      <td>17116.00000</td>\n",
       "      <td>30.691406</td>\n",
       "    </tr>\n",
       "    <tr>\n",
       "      <th>1</th>\n",
       "      <td>2009</td>\n",
       "      <td>13115.75315</td>\n",
       "      <td>3123.590378</td>\n",
       "      <td>0</td>\n",
       "      <td>16239.34353</td>\n",
       "      <td>23.815562</td>\n",
       "    </tr>\n",
       "    <tr>\n",
       "      <th>2</th>\n",
       "      <td>2010</td>\n",
       "      <td>13464.36703</td>\n",
       "      <td>3398.891248</td>\n",
       "      <td>1</td>\n",
       "      <td>16863.25828</td>\n",
       "      <td>25.243602</td>\n",
       "    </tr>\n",
       "    <tr>\n",
       "      <th>3</th>\n",
       "      <td>2011</td>\n",
       "      <td>13307.15248</td>\n",
       "      <td>3239.818533</td>\n",
       "      <td>0</td>\n",
       "      <td>16546.97101</td>\n",
       "      <td>24.346445</td>\n",
       "    </tr>\n",
       "    <tr>\n",
       "      <th>4</th>\n",
       "      <td>2012</td>\n",
       "      <td>13572.33000</td>\n",
       "      <td>4313.666667</td>\n",
       "      <td>1</td>\n",
       "      <td>17885.99667</td>\n",
       "      <td>31.782801</td>\n",
       "    </tr>\n",
       "  </tbody>\n",
       "</table>\n",
       "</div>"
      ],
      "text/plain": [
       "   Years            0            1  At25  Grand Total  PercentageOf\n",
       "0   2008  13096.50000  4019.500000     1  17116.00000     30.691406\n",
       "1   2009  13115.75315  3123.590378     0  16239.34353     23.815562\n",
       "2   2010  13464.36703  3398.891248     1  16863.25828     25.243602\n",
       "3   2011  13307.15248  3239.818533     0  16546.97101     24.346445\n",
       "4   2012  13572.33000  4313.666667     1  17885.99667     31.782801"
      ]
     },
     "execution_count": 2,
     "metadata": {},
     "output_type": "execute_result"
    }
   ],
   "source": [
    "import numpy as np\n",
    "import pandas as pd\n",
    "from sklearn import linear_model\n",
    "\n",
    "# Load data\n",
    "file_name = \"Trash3.csv\"\n",
    "df = pd.read_csv(file_name)\n",
    "df.head()"
   ]
  },
  {
   "cell_type": "code",
   "execution_count": 3,
   "metadata": {
    "colab": {
     "base_uri": "https://localhost:8080/",
     "height": 35
    },
    "colab_type": "code",
    "executionInfo": {
     "elapsed": 538,
     "status": "ok",
     "timestamp": 1573780276998,
     "user": {
      "displayName": "Rajeev Ratan",
      "photoUrl": "https://lh3.googleusercontent.com/a-/AAuE7mCGo6aIm0tOcd5EhqWlYb0rime9sBvHS9YMpx0D2w=s64",
      "userId": "08597265227091462140"
     },
     "user_tz": 0
    },
    "id": "YbrbNp2rnTdM",
    "outputId": "3c7a062e-6ec5-42d6-9ff8-e46b336fc12f"
   },
   "outputs": [
    {
     "data": {
      "text/plain": [
       "(495, 6)"
      ]
     },
     "execution_count": 3,
     "metadata": {},
     "output_type": "execute_result"
    }
   ],
   "source": [
    "df.shape"
   ]
  },
  {
   "cell_type": "code",
   "execution_count": 4,
   "metadata": {
    "colab": {
     "base_uri": "https://localhost:8080/",
     "height": 285
    },
    "colab_type": "code",
    "executionInfo": {
     "elapsed": 1632,
     "status": "ok",
     "timestamp": 1573780357175,
     "user": {
      "displayName": "Rajeev Ratan",
      "photoUrl": "https://lh3.googleusercontent.com/a-/AAuE7mCGo6aIm0tOcd5EhqWlYb0rime9sBvHS9YMpx0D2w=s64",
      "userId": "08597265227091462140"
     },
     "user_tz": 0
    },
    "id": "hCTCNJM2VSGa",
    "outputId": "d8cda7c2-6757-4d64-d146-906ebd764dcc"
   },
   "outputs": [
    {
     "data": {
      "image/png": "[encoded data removed]",
      "text/plain": [
       "<Figure size 640x480 with 1 Axes>"
      ]
     },
     "metadata": {},
     "output_type": "display_data"
    }
   ],
   "source": [
    "# Plotting our data\n",
    "import seaborn as sns; sns.set()\n",
    "import matplotlib.pyplot as plt\n",
    "\n",
    "ax = sns.scatterplot(x=\"Years\", y=\"Grand Total\", hue=\"At25\", data=df)"
   ]
  },
  {
   "cell_type": "code",
   "execution_count": 5,
   "metadata": {
    "colab": {},
    "colab_type": "code",
    "id": "jccI79XBS7Re"
   },
   "outputs": [],
   "source": [
    "# Extract the columns we'll use for our data\n",
    "\n",
    "x = df.iloc[:,np.r_[0, 3:4]].values \n",
    "y = df.iloc[:,3].values"
   ]
  },
  {
   "cell_type": "code",
   "execution_count": 6,
   "metadata": {
    "colab": {},
    "colab_type": "code",
    "id": "_mwZdhfySH9N"
   },
   "outputs": [],
   "source": [
    "# Split data into our test and training datasets\n",
    "from sklearn.model_selection import train_test_split\n",
    "\n",
    "X_train, X_test, Y_train, Y_test = train_test_split(x, y, test_size=0.3, random_state=0)"
   ]
  },
  {
   "cell_type": "code",
   "execution_count": 7,
   "metadata": {
    "colab": {},
    "colab_type": "code",
    "id": "bvAbkWLlTEMu"
   },
   "outputs": [
    {
     "name": "stdout",
     "output_type": "stream",
     "text": [
      "              precision    recall  f1-score   support\n",
      "\n",
      "           0       1.00      0.18      0.31        83\n",
      "           1       0.49      1.00      0.66        66\n",
      "\n",
      "    accuracy                           0.54       149\n",
      "   macro avg       0.75      0.59      0.48       149\n",
      "weighted avg       0.78      0.54      0.46       149\n",
      "\n"
     ]
    }
   ],
   "source": [
    "# Fit (train) the Logistic Regression classifier\n",
    "from sklearn.metrics import classification_report\n",
    "clf = linear_model.LogisticRegression(C=0.001, solver='newton-cg')\n",
    "fitted_model = clf.fit(X_train, Y_train)\n",
    "predictions = fitted_model.predict(X_test)\n",
    "print(classification_report(Y_test, predictions))"
   ]
  },
  {
   "cell_type": "code",
   "execution_count": 9,
   "metadata": {
    "colab": {
     "base_uri": "https://localhost:8080/",
     "height": 35
    },
    "colab_type": "code",
    "executionInfo": {
     "elapsed": 419,
     "status": "ok",
     "timestamp": 1573780495199,
     "user": {
      "displayName": "Rajeev Ratan",
      "photoUrl": "https://lh3.googleusercontent.com/a-/AAuE7mCGo6aIm0tOcd5EhqWlYb0rime9sBvHS9YMpx0D2w=s64",
      "userId": "08597265227091462140"
     },
     "user_tz": 0
    },
    "id": "1s6vLk8hn-Vt",
    "outputId": "c497cfcf-34f1-4174-be99-784b6a92e339"
   },
   "outputs": [
    {
     "name": "stdout",
     "output_type": "stream",
     "text": [
      "This country does meet the 25% recycling goal\n"
     ]
    }
   ],
   "source": [
    "# Predict based on height (inches) and weight (lbs)\n",
    "year = 2009\n",
    "totalWaste = 17000\n",
    "import random\n",
    "x = 0\n",
    "# Get prediction\n",
    "prediction = clf.predict([(year,totalWaste)])\n",
    "\n",
    "if prediction[0]:\n",
    "  result = \"does meet the 25% recycling goal\"\n",
    "else:\n",
    "  result = \"does not mee the 25% recycling goal\" \n",
    "\n",
    "print(\"This country \" + result)"
   ]
  },
  {
   "cell_type": "markdown",
   "metadata": {
    "colab_type": "text",
    "id": "zLj7fadaU_xU"
   },
   "source": [
    "### Displaying our theta parameter values\n",
    "\n",
    "![alt text](https://miro.medium.com/max/2220/1*siWAvCzFy2zp81pDNoa4UA.png)"
   ]
  },
  {
   "cell_type": "code",
   "execution_count": 10,
   "metadata": {
    "colab": {
     "base_uri": "https://localhost:8080/",
     "height": 52
    },
    "colab_type": "code",
    "executionInfo": {
     "elapsed": 413,
     "status": "ok",
     "timestamp": 1573780509992,
     "user": {
      "displayName": "Rajeev Ratan",
      "photoUrl": "https://lh3.googleusercontent.com/a-/AAuE7mCGo6aIm0tOcd5EhqWlYb0rime9sBvHS9YMpx0D2w=s64",
      "userId": "08597265227091462140"
     },
     "user_tz": 0
    },
    "id": "LOA9mKBnTK3z",
    "outputId": "a7ce741a-3211-420a-daa2-66090a30d802"
   },
   "outputs": [
    {
     "name": "stdout",
     "output_type": "stream",
     "text": [
      "[-32.10778398]\n",
      "[[0.01597991 0.08381859]]\n"
     ]
    }
   ],
   "source": [
    "# We have 3 values of theta\n",
    "\n",
    "# For theta_0:\n",
    "print( fitted_model.intercept_ )\n",
    "\n",
    "# For theta_1 and theta_2:\n",
    "print( fitted_model.coef_ )"
   ]
  }
 ],
 "metadata": {
  "colab": {
   "collapsed_sections": [],
   "name": "6.1 Logistic Regression.ipynb",
   "provenance": []
  },
  "kernelspec": {
   "display_name": "base",
   "language": "python",
   "name": "python3"
  },
  "language_info": {
   "codemirror_mode": {
    "name": "ipython",
    "version": 3
   },
   "file_extension": ".py",
   "mimetype": "text/x-python",
   "name": "python",
   "nbconvert_exporter": "python",
   "pygments_lexer": "ipython3",
   "version": "3.12.7"
  }
 },
 "nbformat": 4,
 "nbformat_minor": 4
}
