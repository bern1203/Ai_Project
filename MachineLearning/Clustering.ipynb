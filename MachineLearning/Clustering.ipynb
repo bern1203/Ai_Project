{
 "cells": [
  {
   "cell_type": "markdown",
   "metadata": {
    "id": "TKmy0JASXMEp"
   },
   "source": [
    "# sklearn K-means clustering on Fisher's Iris dataset"
   ]
  },
  {
   "cell_type": "code",
   "execution_count": 28,
   "metadata": {
    "executionInfo": {
     "elapsed": 579,
     "status": "ok",
     "timestamp": 1683659921342,
     "user": {
      "displayName": "Tim Finin",
      "userId": "17646995985153585396"
     },
     "user_tz": 240
    },
    "id": "N3H3K9mpXMEq"
   },
   "outputs": [],
   "source": [
    "%matplotlib inline\n",
    "\n",
    "# metrics module implements functions assessing prediction error\n",
    "from sklearn import cluster, datasets, metrics\n",
    "import numpy as np\n",
    "import pandas as pd\n",
    "# modules for graphs\n",
    "import matplotlib.pyplot as plt\n",
    "from mpl_toolkits.mplot3d import Axes3D\n",
    "import numpy as np\n",
    "import pandas as pd\n",
    "from sklearn import linear_model"
   ]
  },
  {
   "cell_type": "code",
   "execution_count": null,
   "metadata": {
    "executionInfo": {
     "elapsed": 2,
     "status": "ok",
     "timestamp": 1683659925496,
     "user": {
      "displayName": "Tim Finin",
      "userId": "17646995985153585396"
     },
     "user_tz": 240
    },
    "id": "WMhYTX8cXMEt"
   },
   "outputs": [
    {
     "data": {
      "text/html": [
       "<div>\n",
       "<style scoped>\n",
       "    .dataframe tbody tr th:only-of-type {\n",
       "        vertical-align: middle;\n",
       "    }\n",
       "\n",
       "    .dataframe tbody tr th {\n",
       "        vertical-align: top;\n",
       "    }\n",
       "\n",
       "    .dataframe thead th {\n",
       "        text-align: right;\n",
       "    }\n",
       "</style>\n",
       "<table border=\"1\" class=\"dataframe\">\n",
       "  <thead>\n",
       "    <tr style=\"text-align: right;\">\n",
       "      <th></th>\n",
       "      <th>Row Labels</th>\n",
       "      <th>UrbanLand</th>\n",
       "      <th>ArableLand</th>\n",
       "      <th>PoliticalRights</th>\n",
       "    </tr>\n",
       "  </thead>\n",
       "  <tbody>\n",
       "    <tr>\n",
       "      <th>0</th>\n",
       "      <td>Afghanistan</td>\n",
       "      <td>3993.836107</td>\n",
       "      <td>12.003434</td>\n",
       "      <td>7</td>\n",
       "    </tr>\n",
       "    <tr>\n",
       "      <th>1</th>\n",
       "      <td>Albania</td>\n",
       "      <td>827.693957</td>\n",
       "      <td>21.828467</td>\n",
       "      <td>3</td>\n",
       "    </tr>\n",
       "    <tr>\n",
       "      <th>2</th>\n",
       "      <td>Algeria</td>\n",
       "      <td>9357.099747</td>\n",
       "      <td>3.161805</td>\n",
       "      <td>6</td>\n",
       "    </tr>\n",
       "    <tr>\n",
       "      <th>3</th>\n",
       "      <td>Andorra</td>\n",
       "      <td>30.935815</td>\n",
       "      <td>1.590638</td>\n",
       "      <td>1</td>\n",
       "    </tr>\n",
       "    <tr>\n",
       "      <th>4</th>\n",
       "      <td>Angola</td>\n",
       "      <td>2991.346987</td>\n",
       "      <td>4.309778</td>\n",
       "      <td>6</td>\n",
       "    </tr>\n",
       "  </tbody>\n",
       "</table>\n",
       "</div>"
      ],
      "text/plain": [
       "    Row Labels    UrbanLand  ArableLand  PoliticalRights\n",
       "0  Afghanistan  3993.836107   12.003434                7\n",
       "1      Albania   827.693957   21.828467                3\n",
       "2      Algeria  9357.099747    3.161805                6\n",
       "3      Andorra    30.935815    1.590638                1\n",
       "4       Angola  2991.346987    4.309778                6"
      ]
     },
     "execution_count": 29,
     "metadata": {},
     "output_type": "execute_result"
    }
   ],
   "source": [
    "# Load data\n",
    "file_name = \"Data.csv\"\n",
    "df = pd.read_csv(file_name)\n",
    "df.head()\n",
    "# Using Freedom House political rights scores (Lower is better (1-7))"
   ]
  },
  {
   "cell_type": "markdown",
   "metadata": {
    "id": "uPbaERsUXMEv"
   },
   "source": [
    "The Iris dataset has 150 instances:\n",
    "* X floats for Sepal Length, Sepal Width, Petal Length and Petal Width\n",
    "*y: integer (0,1,2) representing species (Setosa, Versicolour, Virginica)"
   ]
  },
  {
   "cell_type": "code",
   "execution_count": 30,
   "metadata": {
    "colab": {
     "base_uri": "https://localhost:8080/"
    },
    "executionInfo": {
     "elapsed": 3,
     "status": "ok",
     "timestamp": 1683659927863,
     "user": {
      "displayName": "Tim Finin",
      "userId": "17646995985153585396"
     },
     "user_tz": 240
    },
    "id": "8LLdmQIXYF3A",
    "outputId": "1dab029e-3bc8-447c-8462-7e7ca4bbee2c"
   },
   "outputs": [
    {
     "name": "stdout",
     "output_type": "stream",
     "text": [
      "Training classes\n",
      " [7 3 6 1 6 2 2 4 1 1 7 7 5 1 7 1 2 4 3 5 2 2 2 7 7 1 7 6 1 7 7 1 7 2 5 1 4\n",
      " 2 7 1 1 7 1 3 3 5 7 7 1 7 6 3 1 1 7 4 1 2 2 1 4 6 5 2 6 4 3 1 2 3 5 1 1 2\n",
      " 1 5 7 4 1 6 1 5 2 2 7 2 1 1 4 3 4 4 6 2 1 5 2 3 3 1 3 5 5 7 3 3 1 1 7 7 4\n",
      " 3 1 6 5 1 2 4 3 3 3 2 1 6 2 6 2 1 2 7 2 4 2 4 1 3 7 7 1 3 2 1 1 7 2 1 1 7\n",
      " 6 6 2 5 2 2 6 7 6 4 7 1 2 1 7 2 4 6]\n"
     ]
    }
   ],
   "source": [
    "\n",
    "x = df.iloc[:,1:3].values \n",
    "y = df.iloc[:,3].values\n",
    "print('Training classes\\n', y)"
   ]
  },
  {
   "cell_type": "markdown",
   "metadata": {
    "id": "yq5Ys6TWO7V2"
   },
   "source": [
    "Use k-means to clyster the data into three clusters, adding the initial centroids randomly, and running the algorithm 10 times, from which the best result will be returned"
   ]
  },
  {
   "cell_type": "code",
   "execution_count": 38,
   "metadata": {
    "colab": {
     "base_uri": "https://localhost:8080/"
    },
    "executionInfo": {
     "elapsed": 1295,
     "status": "ok",
     "timestamp": 1683659932009,
     "user": {
      "displayName": "Tim Finin",
      "userId": "17646995985153585396"
     },
     "user_tz": 240
    },
    "id": "G4y8MELvXME2",
    "outputId": "d20734b3-2e96-4bac-e294-f3a2dbc2776b"
   },
   "outputs": [
    {
     "name": "stdout",
     "output_type": "stream",
     "text": [
      "[3 1 3 1 0 1 2 1 2 0 0 1 4 1 0 3 1 0 0 0 1 4 0 0 1 1 0 0 2 1 1 0 5 3 1 0 0\n",
      " 0 0 1 0 1 1 0 0 0 1 1 1 1 3 1 0 2 1 1 4 3 0 1 0 0 1 1 0 0 3 1 6 4 3 0 2 1\n",
      " 4 0 3 0 1 1 1 0 1 1 0 1 1 1 0 1 2 1 0 1 1 1 1 2 0 1 1 3 0 3 1 0 3 0 1 0 2\n",
      " 1 0 0 4 1 1 1 0 0 2 2 3 1 3 0 1 1 1 3 0 0 1 1 1 1 0 1 2 0 1 1 1 3 1 3 3 3\n",
      " 3 2 1 1 1 1 0 0 3 2 0 2 6 1 2 1 0 0]\n"
     ]
    },
    {
     "name": "stderr",
     "output_type": "stream",
     "text": [
      "c:\\Users\\jesse\\anaconda3\\Lib\\site-packages\\sklearn\\cluster\\_kmeans.py:1429: UserWarning: KMeans is known to have a memory leak on Windows with MKL, when there are less chunks than available threads. You can avoid it by setting the environment variable OMP_NUM_THREADS=1.\n",
      "  warnings.warn(\n"
     ]
    }
   ],
   "source": [
    "# clustering with 3 clusters\n",
    "km1 = cluster.KMeans(n_clusters=7, init='random', n_init=10 )\n",
    "km1.fit(x) \n",
    "clust1 = km1.predict(x)\n",
    "print(clust1)"
   ]
  },
  {
   "cell_type": "markdown",
   "metadata": {
    "id": "arDmoQ0lXME4"
   },
   "source": [
    "Since we know Ground truth, we can compute some useful metrics.  The k-means algorithm will produce three clusters, but they are **not aligned** to the  three classes in our training data,  "
   ]
  },
  {
   "cell_type": "code",
   "execution_count": 39,
   "metadata": {
    "colab": {
     "base_uri": "https://localhost:8080/"
    },
    "executionInfo": {
     "elapsed": 3,
     "status": "ok",
     "timestamp": 1683659936421,
     "user": {
      "displayName": "Tim Finin",
      "userId": "17646995985153585396"
     },
     "user_tz": 240
    },
    "id": "AyOZod-9XME5",
    "outputId": "87cf7359-d728-458c-a799-da9261951b89"
   },
   "outputs": [
    {
     "name": "stdout",
     "output_type": "stream",
     "text": [
      "Ground truth confusion matrix:\n",
      " [[41  0  0  0  0  0  0]\n",
      " [ 0 32  0  0  0  0  0]\n",
      " [ 0  0 19  0  0  0  0]\n",
      " [ 0  0  0 16  0  0  0]\n",
      " [ 0  0  0  0 13  0  0]\n",
      " [ 0  0  0  0  0 16  0]\n",
      " [ 0  0  0  0  0  0 29]]\n",
      "Clusters found confusion matrix:\n",
      " [[ 0  0  0  0  0  0  0  0]\n",
      " [ 8 20  6  5  2  0  0  0]\n",
      " [ 4 20  2  3  1  0  2  0]\n",
      " [ 8  7  2  1  1  0  0  0]\n",
      " [ 8  5  3  0  0  0  0  0]\n",
      " [ 5  4  0  2  2  0  0  0]\n",
      " [ 9  2  1  4  0  0  0  0]\n",
      " [10 11  1  6  0  1  0  0]]\n"
     ]
    }
   ],
   "source": [
    "print('Ground truth confusion matrix:\\n', metrics.confusion_matrix(y, y))\n",
    "\n",
    "# Confusion matrix\n",
    "# We know that the clustering is good when it looks close to the first matrix, all on the major diagonal\n",
    "print('Clusters found confusion matrix:\\n', metrics.confusion_matrix(y, clust1))"
   ]
  },
  {
   "cell_type": "markdown",
   "metadata": {
    "id": "AN4iESqeQrin"
   },
   "source": [
    "One way to evaluate the results uses a **homogeneity score**.  A clustering result satisfies homogeneity if all of its clusters contain only data points which are members of a single class."
   ]
  },
  {
   "cell_type": "code",
   "execution_count": 40,
   "metadata": {
    "colab": {
     "base_uri": "https://localhost:8080/"
    },
    "executionInfo": {
     "elapsed": 2,
     "status": "ok",
     "timestamp": 1683659943719,
     "user": {
      "displayName": "Tim Finin",
      "userId": "17646995985153585396"
     },
     "user_tz": 240
    },
    "id": "nwJ5NcPcNd6i",
    "outputId": "f9f54d32-7af1-4bca-fbb3-98ccf8ca1e4e"
   },
   "outputs": [
    {
     "data": {
      "text/plain": [
       "0.08575868480316275"
      ]
     },
     "execution_count": 40,
     "metadata": {},
     "output_type": "execute_result"
    }
   ],
   "source": [
    "metrics.homogeneity_score(y, clust1)"
   ]
  },
  {
   "cell_type": "markdown",
   "metadata": {
    "id": "pe_Pm3yCSPst"
   },
   "source": [
    "scikit-learn's KMeans package has another parameter that does not use a random placement of all clusters, so lets see if that helps.  It turns out that it does not. "
   ]
  },
  {
   "cell_type": "code",
   "execution_count": 41,
   "metadata": {
    "colab": {
     "base_uri": "https://localhost:8080/"
    },
    "executionInfo": {
     "elapsed": 1332,
     "status": "ok",
     "timestamp": 1683659962929,
     "user": {
      "displayName": "Tim Finin",
      "userId": "17646995985153585396"
     },
     "user_tz": 240
    },
    "id": "ELyzWyhXMVrR",
    "outputId": "85278a66-50ce-4503-fdf4-871371cee14b"
   },
   "outputs": [
    {
     "name": "stdout",
     "output_type": "stream",
     "text": [
      "[[ 0  0  0  0  0  0  0  0]\n",
      " [31  0  0  1  3  1  5  0]\n",
      " [27  0  2  0  0  1  2  0]\n",
      " [16  0  0  1  1  0  1  0]\n",
      " [13  0  0  0  1  0  2  0]\n",
      " [11  0  0  1  0  1  0  0]\n",
      " [14  0  0  0  1  0  1  0]\n",
      " [26  1  0  0  0  0  2  0]]\n"
     ]
    },
    {
     "name": "stderr",
     "output_type": "stream",
     "text": [
      "c:\\Users\\jesse\\anaconda3\\Lib\\site-packages\\sklearn\\cluster\\_kmeans.py:1429: UserWarning: KMeans is known to have a memory leak on Windows with MKL, when there are less chunks than available threads. You can avoid it by setting the environment variable OMP_NUM_THREADS=1.\n",
      "  warnings.warn(\n"
     ]
    }
   ],
   "source": [
    "# clustering with 3 clusters\n",
    "km2 = cluster.KMeans(n_clusters=7, init='k-means++', n_init=10)\n",
    "km2.fit(x) \n",
    "clust2 = km2.predict(x)\n",
    "print(metrics.confusion_matrix(y, clust2))"
   ]
  },
  {
   "cell_type": "markdown",
   "metadata": {
    "id": "u8K1tdUTS6mg"
   },
   "source": [
    "We may be able to get insight by plotting the clusters, at least in a three dimentional space."
   ]
  },
  {
   "cell_type": "code",
   "execution_count": 36,
   "metadata": {
    "colab": {
     "base_uri": "https://localhost:8080/",
     "height": 682
    },
    "executionInfo": {
     "elapsed": 1511,
     "status": "ok",
     "timestamp": 1683659971041,
     "user": {
      "displayName": "Tim Finin",
      "userId": "17646995985153585396"
     },
     "user_tz": 240
    },
    "id": "SZYX5g-EXME-",
    "outputId": "2e4ff5a0-3b5d-41bc-952d-3e2b529bfb42"
   },
   "outputs": [
    {
     "data": {
      "image/png": "[encoded data removed]",
      "text/plain": [
       "<Figure size 640x480 with 1 Axes>"
      ]
     },
     "metadata": {},
     "output_type": "display_data"
    }
   ],
   "source": [
    "# Plotting our data\n",
    "import seaborn as sns; sns.set()\n",
    "import matplotlib.pyplot as plt\n",
    "\n",
    "ax = sns.scatterplot(x=\"UrbanLand\", y=\"ArableLand\", hue=clust2, data=df)\n",
    "plt.show()\n"
   ]
  }
 ],
 "metadata": {
  "colab": {
   "provenance": []
  },
  "kernelspec": {
   "display_name": "base",
   "language": "python",
   "name": "python3"
  },
  "language_info": {
   "codemirror_mode": {
    "name": "ipython",
    "version": 3
   },
   "file_extension": ".py",
   "mimetype": "text/x-python",
   "name": "python",
   "nbconvert_exporter": "python",
   "pygments_lexer": "ipython3",
   "version": "3.12.7"
  }
 },
 "nbformat": 4,
 "nbformat_minor": 4
}
